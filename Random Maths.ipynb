{
 "cells": [
  {
   "cell_type": "markdown",
   "metadata": {},
   "source": [
    "**(i) Finding numbers whose powers have all 0-9 digits.**"
   ]
  },
  {
   "cell_type": "markdown",
   "metadata": {},
   "source": [
    "309 is the smallest integer whose fifth power contains all the digits 0-9."
   ]
  },
  {
   "cell_type": "code",
   "execution_count": 2,
   "metadata": {
    "collapsed": true
   },
   "outputs": [],
   "source": [
    "def include_all_digits(number, power):\n",
    "    x = int(number)\n",
    "    y = int(power)\n",
    "    t = str(x**y)\n",
    "    if '0' in t and '1' in t and '2' in t and '3' in t and '4' in t and '5' in t and '6' in t and '7' in t and '8' in t and '9' in t:\n",
    "        return \"yes\"\n",
    "    else:\n",
    "        return \"no\"\n",
    "    \n",
    "    "
   ]
  },
  {
   "cell_type": "code",
   "execution_count": 14,
   "metadata": {
    "collapsed": false,
    "scrolled": true
   },
   "outputs": [],
   "source": [
    "numbers_and_powers_with_all_digits = []\n",
    "for i in range(0,309):\n",
    "    for v in range(0,10):\n",
    "        if include_all_digits(i,v) == 'yes':\n",
    "            numbers_and_powers_with_all_digits.append([i,v])"
   ]
  },
  {
   "cell_type": "code",
   "execution_count": 16,
   "metadata": {
    "collapsed": false
   },
   "outputs": [
    {
     "data": {
      "text/plain": [
       "116"
      ]
     },
     "execution_count": 16,
     "metadata": {},
     "output_type": "execute_result"
    }
   ],
   "source": [
    "len(numbers_and_powers_with_all_digits)"
   ]
  },
  {
   "cell_type": "markdown",
   "metadata": {},
   "source": [
    "There are 1765 combinations of integers less than 309 and a power less than 20 that produce a result which includes all digits 0 to 9.\n",
    "\n",
    "There are 116 combinations of integers less than 309 and a power less than 10 that produce a result which includes all digits 0 to 9.\n",
    "\n",
    "There are 0 combinations of integers less than 309 and a power of 5 or under that produce a result which includes all the digits. 309 and 5 are the smallest integer and power (also an integer) whose result of 309^5 presents all digits 0 to 9. "
   ]
  },
  {
   "cell_type": "code",
   "execution_count": 11,
   "metadata": {
    "collapsed": false
   },
   "outputs": [],
   "source": [
    "import matplotlib.pyplot as plt\n",
    "matplotlib inline"
   ]
  },
  {
   "cell_type": "code",
   "execution_count": 19,
   "metadata": {
    "collapsed": false
   },
   "outputs": [],
   "source": [
    "import plotly.plotly as py\n"
   ]
  },
  {
   "cell_type": "code",
   "execution_count": 10,
   "metadata": {
    "collapsed": true
   },
   "outputs": [],
   "source": [
    "import time"
   ]
  },
  {
   "cell_type": "code",
   "execution_count": 52,
   "metadata": {
    "collapsed": false
   },
   "outputs": [
    {
     "data": {
      "image/png": "[encoded data removed]",
      "text/plain": [
       "<matplotlib.figure.Figure at 0xb16aa10>"
      ]
     },
     "metadata": {},
     "output_type": "display_data"
    }
   ],
   "source": [
    "x = []\n",
    "y = []\n",
    "fig = plt.figure(figsize=(10,4))\n",
    "ax = fig.add_subplot(111)\n",
    "ax.set_xlabel('integer')\n",
    "ax.set_ylabel('power')\n",
    "for i in numbers_and_powers_with_all_digits:\n",
    "    x.append(i[0])\n",
    "    y.append(i[1])\n",
    "ax.plot(x,y, \"o\", alpha = 0.2)\n",
    "plt.ylim([0,10])\n",
    "plt.xlim([0,310])\n",
    "plt.show()"
   ]
  },
  {
   "cell_type": "code",
   "execution_count": 30,
   "metadata": {
    "collapsed": false
   },
   "outputs": [
    {
     "data": {
      "text/plain": [
       "<matplotlib.figure.Figure at 0xb0f4ab0>"
      ]
     },
     "metadata": {},
     "output_type": "display_data"
    }
   ],
   "source": [
    "plt.figure(figsize=(92,69))\n",
    "plt.show()"
   ]
  },
  {
   "cell_type": "markdown",
   "metadata": {},
   "source": [
    "**(ii) Finding Amicable Pairs in a given range.**"
   ]
  },
  {
   "cell_type": "code",
   "execution_count": 2,
   "metadata": {
    "collapsed": true
   },
   "outputs": [],
   "source": [
    "def get_factors(x):\n",
    "    factors = []\n",
    "    for i in range(1,x):\n",
    "        if x%i == 0:\n",
    "            factors.append(i)\n",
    "    return factors"
   ]
  },
  {
   "cell_type": "code",
   "execution_count": 89,
   "metadata": {
    "collapsed": false
   },
   "outputs": [],
   "source": [
    "def v4_find_amicable_less_than(u):\n",
    "    start_time = time.time()\n",
    "    amicable_pairs = []\n",
    "    factors = {i: sum(get_factors(i)) for i in range(1,u)}\n",
    "    n = 0\n",
    "    for t in range(1,u):\n",
    "        n+=1\n",
    "        if factors[t] > 1:\n",
    "            for v in range(n+1,u):\n",
    "                if factors[v] > 1:\n",
    "                    if factors[t] == v and factors[v] == t:\n",
    "                        amicable_pairs.append([t,v])\n",
    "    print \"- run in %s seconds \" % round((time.time() - start_time),4)\n",
    "    return amicable_pairs    "
   ]
  },
  {
   "cell_type": "code",
   "execution_count": 78,
   "metadata": {
    "collapsed": false
   },
   "outputs": [
    {
     "data": {
      "text/plain": [
       "([[220, 284], [1184, 1210]], '- run in 0.299 seconds ')"
      ]
     },
     "execution_count": 78,
     "metadata": {},
     "output_type": "execute_result"
    }
   ],
   "source": [
    "v4_find_amicable_less_than(1500)"
   ]
  },
  {
   "cell_type": "code",
   "execution_count": 90,
   "metadata": {
    "collapsed": false
   },
   "outputs": [
    {
     "name": "stdout",
     "output_type": "stream",
     "text": [
      "- run in 274.303 seconds \n"
     ]
    }
   ],
   "source": [
    "amicable_pairs_under_20000 = v4_find_amicable_less_than(20000)"
   ]
  },
  {
   "cell_type": "markdown",
   "metadata": {},
   "source": [
    "Amicable Pairs Under 20,000:\n",
    "[[220, 284], [1184, 1210], [2620, 2924], [5020, 5564], [6232, 6368], [10744, 10856], [12285, 14595], [17296, 18416]]"
   ]
  },
  {
   "cell_type": "markdown",
   "metadata": {},
   "source": [
    "** (iii) Sum of three consecutive primes.**"
   ]
  },
  {
   "cell_type": "code",
   "execution_count": 3,
   "metadata": {
    "collapsed": false
   },
   "outputs": [],
   "source": [
    "primes = []\n",
    "for i in range(1,319):\n",
    "    if len(get_factors(i)) < 2:\n",
    "        primes.append(i)\n",
    "        "
   ]
  },
  {
   "cell_type": "code",
   "execution_count": 8,
   "metadata": {
    "collapsed": false
   },
   "outputs": [],
   "source": [
    "three_con = []\n",
    "for i in range(0,len(primes)-2):\n",
    "    three_con.append([[primes[i],primes[i+1],primes[i+2]],primes[i]+primes[i+1]+primes[i+2]])"
   ]
  },
  {
   "cell_type": "code",
   "execution_count": null,
   "metadata": {
    "collapsed": true
   },
   "outputs": [],
   "source": []
  }
 ],
 "metadata": {
  "anaconda-cloud": {},
  "kernelspec": {
   "display_name": "Python [default]",
   "language": "python",
   "name": "python2"
  },
  "language_info": {
   "codemirror_mode": {
    "name": "ipython",
    "version": 2
   },
   "file_extension": ".py",
   "mimetype": "text/x-python",
   "name": "python",
   "nbconvert_exporter": "python",
   "pygments_lexer": "ipython2",
   "version": "2.7.12"
  }
 },
 "nbformat": 4,
 "nbformat_minor": 1
}
